{
 "cells": [
  {
   "cell_type": "code",
   "execution_count": 2,
   "id": "3e5b778f-47f8-4a03-a6d5-8d18b965bf72",
   "metadata": {},
   "outputs": [],
   "source": [
    "from keras.layers import Dense, Flatten, Dropout\n",
    "import keras\n",
    "from keras.metrics import categorical_crossentropy\n",
    "import os\n",
    "import cv2\n",
    "import numpy as np\n",
    "from sklearn.model_selection import train_test_split\n",
    "import matplotlib.pyplot as plt"
   ]
  },
  {
   "cell_type": "code",
   "execution_count": 3,
   "id": "c30dab22-0bc4-4db0-91d8-aee6a321adb6",
   "metadata": {},
   "outputs": [],
   "source": [
    "def load_data(directory):\n",
    "    X_data, y_data = [], []\n",
    "    for i in os.listdir(directory):\n",
    "        if i == 'Cat':\n",
    "            y = 0\n",
    "        else:\n",
    "            y = 1\n",
    "        for img_path in os.listdir(f'{directory}/{i}'):\n",
    "            img = cv2.imread(f'{directory}/{i}/{img_path}', cv2.IMREAD_GRAYSCALE)\n",
    "            img = cv2.resize(img, (48, 48), interpolation = cv2.INTER_AREA)\n",
    "            X_data.append(np.array(img))\n",
    "            y_data.append(y)\n",
    "\n",
    "\n",
    "    X_data = np.array(X_data)\n",
    "    y_data = np.array(y_data)\n",
    "\n",
    "    return X_data, y_data"
   ]
  },
  {
   "cell_type": "code",
   "execution_count": 4,
   "id": "2458abcc-fa0e-411d-afd1-e098485a40aa",
   "metadata": {},
   "outputs": [],
   "source": [
    "X, y = load_data('img')"
   ]
  },
  {
   "cell_type": "code",
   "execution_count": 5,
   "id": "30ce3211-2a72-4b66-a666-910b44265f7d",
   "metadata": {},
   "outputs": [],
   "source": [
    "x_train, x_test, y_train, y_test = train_test_split(X, y, random_state=1488, test_size=0.1)\n",
    "y_train = keras.utils.to_categorical(y_train, 2) \n",
    "y_test = keras.utils.to_categorical(y_test, 2) "
   ]
  },
  {
   "cell_type": "code",
   "execution_count": 6,
   "id": "94b8501f-c696-44de-9760-0b23eecb6f1e",
   "metadata": {},
   "outputs": [],
   "source": [
    "x_train = x_train * 1./255 \n",
    "x_test = x_test * 1./255"
   ]
  },
  {
   "cell_type": "code",
   "execution_count": 7,
   "id": "6c4047b2-411a-4cc6-9405-5118a9e6ff46",
   "metadata": {},
   "outputs": [],
   "source": [
    "x_train = x_train.reshape(x_train.shape[0], -1) \n",
    "x_test = x_test.reshape(x_test.shape[0], -1) "
   ]
  },
  {
   "cell_type": "code",
   "execution_count": 8,
   "id": "49494899-96da-490a-afa6-b2be7444b6ee",
   "metadata": {},
   "outputs": [],
   "source": [
    "model = keras.Sequential()\n",
    "model.add(Dense(units=2304, input_shape=(2304,), activation='relu'))\n",
    "model.add(Dense(units=512, activation='relu'))\n",
    "model.add(Dense(units=2, activation='softmax'))"
   ]
  },
  {
   "cell_type": "code",
   "execution_count": 9,
   "id": "857f8877-86f5-4f45-933f-b40a6bba961e",
   "metadata": {},
   "outputs": [],
   "source": [
    "model.compile(\n",
    "  optimizer='adam',\n",
    "  loss=categorical_crossentropy,\n",
    "  metrics=['accuracy'])"
   ]
  },
  {
   "cell_type": "code",
   "execution_count": 10,
   "id": "7a9eda7b-79c6-49ea-aaad-f0dba5f5a6d0",
   "metadata": {},
   "outputs": [
    {
     "name": "stdout",
     "output_type": "stream",
     "text": [
      "Epoch 1/10\n",
      "702/702 [==============================] - 31s 44ms/step - loss: 0.7054 - accuracy: 0.5577\n",
      "Epoch 2/10\n",
      "702/702 [==============================] - 35s 50ms/step - loss: 0.6694 - accuracy: 0.5833\n",
      "Epoch 3/10\n",
      "702/702 [==============================] - 32s 46ms/step - loss: 0.6610 - accuracy: 0.6009\n",
      "Epoch 4/10\n",
      "702/702 [==============================] - 31s 45ms/step - loss: 0.6577 - accuracy: 0.6065\n",
      "Epoch 5/10\n",
      "702/702 [==============================] - 31s 44ms/step - loss: 0.6563 - accuracy: 0.6081\n",
      "Epoch 6/10\n",
      "702/702 [==============================] - 31s 45ms/step - loss: 0.6537 - accuracy: 0.6119\n",
      "Epoch 7/10\n",
      "702/702 [==============================] - 31s 45ms/step - loss: 0.6529 - accuracy: 0.6163\n",
      "Epoch 8/10\n",
      "702/702 [==============================] - 33s 47ms/step - loss: 0.6480 - accuracy: 0.6185\n",
      "Epoch 9/10\n",
      "702/702 [==============================] - 31s 45ms/step - loss: 0.6468 - accuracy: 0.6204\n",
      "Epoch 10/10\n",
      "702/702 [==============================] - 32s 46ms/step - loss: 0.6428 - accuracy: 0.6257\n"
     ]
    },
    {
     "data": {
      "text/plain": [
       "<keras.src.callbacks.History at 0x1abec02de70>"
      ]
     },
     "execution_count": 10,
     "metadata": {},
     "output_type": "execute_result"
    }
   ],
   "source": [
    "model.fit(x=x_train, y=y_train, batch_size=32, epochs=10)"
   ]
  },
  {
   "cell_type": "code",
   "execution_count": 42,
   "id": "32055140-dd2a-4522-97df-947443ac725a",
   "metadata": {},
   "outputs": [],
   "source": [
    "img = cv2.imread('123.jpg', cv2.IMREAD_GRAYSCALE)\n",
    "img = cv2.resize(img, (48, 48), interpolation = cv2.INTER_AREA)\n",
    "\n",
    "img = img * 1./255\n",
    "img = img.reshape((1, 2304))\n",
    "\n",
    "img_1 = np.array([x_test[5]])"
   ]
  },
  {
   "cell_type": "code",
   "execution_count": 27,
   "id": "55d4f761-a577-4b44-a8f6-24bc389ff50a",
   "metadata": {},
   "outputs": [
    {
     "data": {
      "text/plain": [
       "array([1., 0.], dtype=float32)"
      ]
     },
     "execution_count": 27,
     "metadata": {},
     "output_type": "execute_result"
    }
   ],
   "source": [
    "y_test[5]"
   ]
  },
  {
   "cell_type": "code",
   "execution_count": 43,
   "id": "43533bd9-915d-4aa8-b7b6-a5b6bf0abe7f",
   "metadata": {},
   "outputs": [
    {
     "name": "stdout",
     "output_type": "stream",
     "text": [
      "1/1 [==============================] - 0s 13ms/step\n"
     ]
    },
    {
     "data": {
      "text/plain": [
       "array([[0.6484099, 0.3515901]], dtype=float32)"
      ]
     },
     "execution_count": 43,
     "metadata": {},
     "output_type": "execute_result"
    }
   ],
   "source": [
    "model.predict(img)"
   ]
  },
  {
   "cell_type": "code",
   "execution_count": 22,
   "id": "ed24e684-3f54-439d-a3f8-ac41eb1dcd58",
   "metadata": {},
   "outputs": [
    {
     "name": "stdout",
     "output_type": "stream",
     "text": [
      "1/1 [==============================] - 0s 14ms/step\n"
     ]
    },
    {
     "data": {
      "text/plain": [
       "array([[0.83015573, 0.1698443 ]], dtype=float32)"
      ]
     },
     "execution_count": 22,
     "metadata": {},
     "output_type": "execute_result"
    }
   ],
   "source": [
    "model.predict(img_1)"
   ]
  },
  {
   "cell_type": "code",
   "execution_count": 23,
   "id": "193dcdb1-5c35-4f4a-a242-cb0b6c72254d",
   "metadata": {},
   "outputs": [
    {
     "data": {
      "image/png": "[encoded data removed]",
      "text/plain": [
       "<Figure size 640x480 with 1 Axes>"
      ]
     },
     "metadata": {},
     "output_type": "display_data"
    }
   ],
   "source": [
    "imgplot = plt.imshow(img_1.reshape((48, 48)))\n",
    "plt.show()"
   ]
  },
  {
   "cell_type": "code",
   "execution_count": 44,
   "id": "59180fd0-12f6-4c98-bfd3-e79fb915d0dd",
   "metadata": {},
   "outputs": [
    {
     "data": {
      "image/png": "[encoded data removed]",
      "text/plain": [
       "<Figure size 640x480 with 1 Axes>"
      ]
     },
     "metadata": {},
     "output_type": "display_data"
    }
   ],
   "source": [
    "imgplot = plt.imshow(img.reshape((48, 48)))\n",
    "plt.show()"
   ]
  },
  {
   "cell_type": "code",
   "execution_count": 16,
   "id": "361ea379-edb5-41a0-ae36-9537d4e3d058",
   "metadata": {},
   "outputs": [],
   "source": [
    "def check_result(predicted_data):\n",
    "    high_index = predicted_data.argmax()\n",
    "    if high_index == 0:\n",
    "        return np.array([1, 0], dtype=np.float32)\n",
    "    else:\n",
    "        return np.array([0, 1], dtype=np.float32)"
   ]
  },
  {
   "cell_type": "code",
   "execution_count": 17,
   "id": "b3b6078c-4394-4605-9a0f-6ae9b9f4252c",
   "metadata": {},
   "outputs": [
    {
     "name": "stdout",
     "output_type": "stream",
     "text": [
      "1/1 [==============================] - 0s 14ms/step\n",
      "[1. 0.]\n"
     ]
    }
   ],
   "source": [
    "print(check_result(model.predict(img_1)))"
   ]
  },
  {
   "cell_type": "code",
   "execution_count": 18,
   "id": "3ecc8da1-2ff2-48a3-9f11-de2bd7ad4442",
   "metadata": {},
   "outputs": [
    {
     "data": {
      "text/plain": [
       "array([0., 1.], dtype=float32)"
      ]
     },
     "execution_count": 18,
     "metadata": {},
     "output_type": "execute_result"
    }
   ],
   "source": [
    "y_test[9]"
   ]
  },
  {
   "cell_type": "code",
   "execution_count": 45,
   "id": "e860c450-d5e7-4437-8d9c-ab7c19ab9691",
   "metadata": {},
   "outputs": [
    {
     "name": "stderr",
     "output_type": "stream",
     "text": [
      "C:\\Users\\stepan\\AppData\\Roaming\\Python\\Python310\\site-packages\\keras\\src\\engine\\training.py:3079: UserWarning: You are saving your model as an HDF5 file via `model.save()`. This file format is considered legacy. We recommend using instead the native Keras format, e.g. `model.save('my_model.keras')`.\n",
      "  saving_api.save_model(\n"
     ]
    }
   ],
   "source": [
    "model.save('dogs_and_cats.h5')"
   ]
  },
  {
   "cell_type": "code",
   "execution_count": null,
   "id": "28d418b5-0849-46ad-9542-e4dc0eac4acc",
   "metadata": {},
   "outputs": [],
   "source": []
  }
 ],
 "metadata": {
  "kernelspec": {
   "display_name": "Python 3 (ipykernel)",
   "language": "python",
   "name": "python3"
  },
  "language_info": {
   "codemirror_mode": {
    "name": "ipython",
    "version": 3
   },
   "file_extension": ".py",
   "mimetype": "text/x-python",
   "name": "python",
   "nbconvert_exporter": "python",
   "pygments_lexer": "ipython3",
   "version": "3.10.0"
  }
 },
 "nbformat": 4,
 "nbformat_minor": 5
}
